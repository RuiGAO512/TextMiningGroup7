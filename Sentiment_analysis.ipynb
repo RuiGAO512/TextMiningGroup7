{
 "cells": [
  {
   "cell_type": "code",
   "execution_count": 4,
   "id": "743999f3-76b8-4eae-82d8-27aee3fde1e4",
   "metadata": {},
   "outputs": [],
   "source": [
    "import pandas as pd\n",
    "import nltk\n",
    "import spacy\n",
    "from nltk.sentiment.vader import SentimentIntensityAnalyzer\n",
    "from sklearn.metrics import classification_report"
   ]
  },
  {
   "cell_type": "code",
   "execution_count": 8,
   "id": "a5f52880-ecaf-473f-bef2-e5ba7de86d62",
   "metadata": {},
   "outputs": [],
   "source": [
    "#load the dataset\n",
    "\n",
    "#df = pd.read_csv(\"labelvader.csv\")\n",
    "df = pd.read_csv(\"sentiment-topic-test.tsv\", sep=\"\\t\")\n"
   ]
  },
  {
   "cell_type": "code",
   "execution_count": 9,
   "id": "3e57dbeb-3dd6-4e72-b4a6-e92fc0933447",
   "metadata": {},
   "outputs": [
    {
     "name": "stderr",
     "output_type": "stream",
     "text": [
      "[nltk_data] Downloading package vader_lexicon to\n",
      "[nltk_data]     C:\\Users\\Austie\\AppData\\Roaming\\nltk_data...\n",
      "[nltk_data]   Package vader_lexicon is already up-to-date!\n"
     ]
    }
   ],
   "source": [
    "#load the models\n",
    "\n",
    "nltk.download(\"vader_lexicon\")\n",
    "\n",
    "nlp = spacy.load(\"en_core_web_sm\")\n",
    "vader_model = SentimentIntensityAnalyzer()"
   ]
  },
  {
   "cell_type": "code",
   "execution_count": 14,
   "id": "214863b9-f2fb-4b34-b0f8-038522830b5d",
   "metadata": {},
   "outputs": [],
   "source": [
    "#VADER pipeline\n",
    "\n",
    "def run_vader(textual_unit, lemmatize=True, parts_of_speech_to_consider=None):\n",
    "    doc = nlp(textual_unit)\n",
    "    input_to_vader = []\n",
    "\n",
    "    for sent in doc.sents:\n",
    "        for token in sent:\n",
    "            to_add = token.lemma_ if lemmatize and token.lemma_ != '-PRON-' else token.text\n",
    "\n",
    "            if parts_of_speech_to_consider:\n",
    "                if token.pos_ in parts_of_speech_to_consider:\n",
    "                    input_to_vader.append(to_add)\n",
    "            else:\n",
    "                input_to_vader.append(to_add)\n",
    "\n",
    "    scores = vader_model.polarity_scores(' '.join(input_to_vader))\n",
    "    return scores\n",
    "\n",
    "def vader_output_to_label(vader_output):\n",
    "    compound = vader_output['compound']\n",
    "    if compound < 0:\n",
    "        return 'negative'\n",
    "    elif compound == 0.0:\n",
    "        return 'neutral'\n",
    "    else:\n",
    "        return 'positive'"
   ]
  },
  {
   "cell_type": "code",
   "execution_count": 15,
   "id": "17fe24a8-1ea5-46f5-8b2d-7c2ca84d95e7",
   "metadata": {},
   "outputs": [],
   "source": [
    "#Sentiment Analysis (test set)\n",
    "texts = []\n",
    "vader_predictions = []\n",
    "gold_labels = []\n",
    "\n",
    "for sentence in df[\"sentence\"]:\n",
    "    vader_output = run_vader(sentence)\n",
    "    vader_label = vader_output_to_label(vader_output)\n",
    "    texts.append(sentence)\n",
    "    vader_predictions.append(vader_label)\n",
    "\n",
    "gold_labels = df[\"sentiment\"].tolist()\n",
    "\n"
   ]
  },
  {
   "cell_type": "code",
   "execution_count": 16,
   "id": "6e466b82-801f-4372-b9de-c18391ca2295",
   "metadata": {},
   "outputs": [
    {
     "name": "stdout",
     "output_type": "stream",
     "text": [
      "VADER Sentiment Classification Report:\n",
      "              precision    recall  f1-score   support\n",
      "\n",
      "    negative       0.00      0.00      0.00         6\n",
      "     neutral       0.20      0.17      0.18         6\n",
      "    positive       0.33      0.50      0.40         6\n",
      "\n",
      "    accuracy                           0.22        18\n",
      "   macro avg       0.18      0.22      0.19        18\n",
      "weighted avg       0.18      0.22      0.19        18\n",
      "\n"
     ]
    }
   ],
   "source": [
    "print(\"VADER Sentiment Classification Report:\")\n",
    "print(classification_report(gold_labels, vader_predictions))"
   ]
  },
  {
   "cell_type": "code",
   "execution_count": 13,
   "id": "a671ca13-71b3-4dae-a74a-db7884803165",
   "metadata": {},
   "outputs": [
    {
     "name": "stdout",
     "output_type": "stream",
     "text": [
      "\n",
      "Misclassified Positive Tweets:\n",
      "Tweet: The atmosphere at the stadium tonight was electric. \n",
      "Expected: positive VADER: neutral\n",
      "------------------------------------------------------------\n",
      "Tweet: It had me hooked from the first chapter. \n",
      "Expected: positive VADER: neutral\n",
      "------------------------------------------------------------\n",
      "Tweet: The author’s writing style is so unique – poetic, but not over the top. \n",
      "Expected: positive VADER: negative\n",
      "------------------------------------------------------------\n",
      "\n",
      "Misclassified Neutral Tweets:\n",
      "Tweet: It’s more of a slow burn than a page-turner, but it’s well-written, I guess. \n",
      "Expected: neutral VADER: positive\n",
      "------------------------------------------------------------\n",
      "Tweet: It’s split into two timelines, which keeps it interesting but also a bit confusing at times. \n",
      "Expected: neutral VADER: negative\n",
      "------------------------------------------------------------\n",
      "Tweet: They rotated their squad for the cup game, which wasn’t surprising given the schedule. \n",
      "Expected: neutral VADER: positive\n",
      "------------------------------------------------------------\n",
      "Tweet: The trailer gave away most of the plot, but there were still a few surprises. \n",
      "Expected: neutral VADER: positive\n",
      "------------------------------------------------------------\n",
      "\n",
      "Misclassified Negative Tweets:\n",
      "Tweet: How do you concede three goals in ten minutes? The whole defence needs replacing. \n",
      "Expected: negative VADER: positive\n",
      "------------------------------------------------------------\n",
      "Tweet: The protagonist was so whiny I wanted to throw the book across the room. \n",
      "Expected: negative VADER: neutral\n",
      "------------------------------------------------------------\n",
      "Tweet: I don't get how was it supposed to work without any chemistry between the leads. \n",
      "Expected: negative VADER: neutral\n",
      "------------------------------------------------------------\n",
      "Tweet: I don't get the appeal at all, it's just a couple guys kicking a ball around at the end of the day. \n",
      "Expected: negative VADER: neutral\n",
      "------------------------------------------------------------\n",
      "Tweet: It's really incredibly impressive to mess up such a tested blockbuster formula. \n",
      "Expected: negative VADER: positive\n",
      "------------------------------------------------------------\n",
      "Tweet: The only way it's helped me is by keeping my table from being wobbly. \n",
      "Expected: negative VADER: neutral\n",
      "------------------------------------------------------------\n"
     ]
    }
   ],
   "source": [
    "misclassified = []\n",
    "\n",
    "for i in range(len(texts)):\n",
    "    if gold_labels[i] != vader_predictions[i]:\n",
    "        misclassified.append((texts[i], gold_labels[i], vader_predictions[i]))\n",
    "\n",
    "# display 10 misclassifications per class\n",
    "positive_errors = [m for m in misclassified if m[1] == \"positive\"][:10]\n",
    "neutral_errors  = [m for m in misclassified if m[1] == \"neutral\"][:10]\n",
    "negative_errors = [m for m in misclassified if m[1] == \"negative\"][:10]\n",
    "\n",
    "print(\"\\nMisclassified Positive Tweets:\")\n",
    "for text in positive_errors:\n",
    "    print(f\"Tweet: {text[0]} \\nExpected: {text[1]} VADER: {text[2]}\\n{'-'*60}\")\n",
    "\n",
    "print(\"\\nMisclassified Neutral Tweets:\")\n",
    "for text in neutral_errors:\n",
    "    print(f\"Tweet: {text[0]} \\nExpected: {text[1]} VADER: {text[2]}\\n{'-'*60}\")\n",
    "\n",
    "print(\"\\nMisclassified Negative Tweets:\")\n",
    "for text in negative_errors:\n",
    "    print(f\"Tweet: {text[0]} \\nExpected: {text[1]} VADER: {text[2]}\\n{'-'*60}\")"
   ]
  },
  {
   "cell_type": "markdown",
   "id": "bfb6f7c0-5d48-446d-8dbe-726f2a76ec48",
   "metadata": {},
   "source": [
    "VADER is misclassifying the test set words for a number of reasons:\n",
    "\n",
    "Slight hints of positivity or negativity.\n",
    "Tweet: The atmosphere at the stadium tonight was electric. \n",
    "Expected: positive VADER: neutral\n",
    "VADER would see no strong sentiment words to indicate the tweet was positive. Therefore it was classed as Neutral.\n",
    "\n",
    "Humor or sarcasm is also not detected by VADER:\n",
    "Tweet: The only way it's helped me is by keeping my table from being wobbly.\n",
    "Tweet was classed as neutral when expected was negative.\n",
    "VADER doesn't understand the sarcasm and classed the tweet as neutral.\n",
    "\n",
    "VADER has issues with negations and implications.\n",
    "Certain words like Impressive or well-writen are in misclassified tweets and VADER tends to classify these wrong."
   ]
  },
  {
   "cell_type": "markdown",
   "id": "40d7e1e6-4924-4f64-badd-fe043c02428b",
   "metadata": {},
   "source": [
    "## Sentiment Analysis labelvader.csv file"
   ]
  },
  {
   "cell_type": "code",
   "execution_count": 17,
   "id": "eab20ae0-f86e-46fc-8e42-adcddbcac2cf",
   "metadata": {},
   "outputs": [],
   "source": [
    "df = pd.read_csv(\"labelvader.csv\")"
   ]
  },
  {
   "cell_type": "code",
   "execution_count": 26,
   "id": "230f882c-de6e-4e6a-b4aa-b7de3a3465f2",
   "metadata": {},
   "outputs": [],
   "source": [
    "texts = []\n",
    "vader_predictions = []\n",
    "gold_labels = []\n",
    "\n",
    "for sentence in df[\"Tweet\"]:\n",
    "    vader_output = run_vader(sentence)\n",
    "    vader_label = vader_output_to_label(vader_output)\n",
    "    texts.append(sentence)\n",
    "    vader_predictions.append(vader_label)\n",
    "\n",
    "gold_labels = df[\"sentiments\"].str.lower().tolist()"
   ]
  },
  {
   "cell_type": "code",
   "execution_count": 27,
   "id": "0b15b16a-c026-4fae-af8f-8ff9eaaa22dc",
   "metadata": {},
   "outputs": [
    {
     "name": "stdout",
     "output_type": "stream",
     "text": [
      "VADER Sentiment Classification Report (Original):\n",
      "              precision    recall  f1-score   support\n",
      "\n",
      "    negative       0.24      0.18      0.20       271\n",
      "     neutral       0.51      0.87      0.64       987\n",
      "    positive       0.71      0.12      0.21       742\n",
      "\n",
      "    accuracy                           0.50      2000\n",
      "   macro avg       0.49      0.39      0.35      2000\n",
      "weighted avg       0.55      0.50      0.42      2000\n",
      "\n"
     ]
    }
   ],
   "source": [
    "print(\"VADER Sentiment Classification Report (Original):\")\n",
    "print(classification_report(gold_labels, vader_predictions))"
   ]
  },
  {
   "cell_type": "code",
   "execution_count": 22,
   "id": "bc8c782a-bafb-4a06-847a-a90a85cb050a",
   "metadata": {},
   "outputs": [
    {
     "name": "stdout",
     "output_type": "stream",
     "text": [
      "\n",
      "Misclassified Positive Tweets:\n",
      "Tweet:  toyotaavanzaa worksfess aku salfok sama ptnya keren bisa nembus hpm lion air \n",
      "Expected: positive VADER: neutral\n",
      "------------------------------------------------------------\n",
      "Tweet: kalau nyari cantik ada raline syah bisa dibahas single lagi kalau mau nyari kaya ada raline pimpinan lion air kalau mau nyari suara bagus ada lyodra bisa diact kenal lagi ngapain coba kalau bukan cari aman karena perihal kita mainnya delete akun yang \n",
      "Expected: positive VADER: neutral\n",
      "------------------------------------------------------------\n",
      "Tweet: seru juga liat orang orang debat soal pelayanan maskapai lcc apalagi lion air citilink \n",
      "Expected: positive VADER: neutral\n",
      "------------------------------------------------------------\n",
      "Tweet:  worksfess jan mau nanti dimintain duit deposito dengan alasan keperluan seragam dll aku pernah kena deket lion air tower harmoni dan mereka ini berkomplot sama preman cosplay satpam minimal ribu boleh angsur dan kudu kalo mau masuk skip kalo ada diksih maps kek  \n",
      "Expected: positive VADER: neutral\n",
      "------------------------------------------------------------\n",
      "Tweet:  ryanrainaldi beliau aku memulai chapter baru ryan dicebok setan dan tragedi pramu gari lion air akan segera ganti judul \n",
      "Expected: positive VADER: neutral\n",
      "------------------------------------------------------------\n",
      "Tweet: lowongan lion air untuk informasi lebih lengkap cek website lokertangerang lokerjakarta  \n",
      "Expected: positive VADER: neutral\n",
      "------------------------------------------------------------\n",
      "Tweet: mau heran tapi ini lion air \n",
      "Expected: positive VADER: neutral\n",
      "------------------------------------------------------------\n",
      "Tweet:  buyungbin adiinn aswantgardapati yakin rendang babi aja diprotes percaya diri dari mananya halu ketinggian cuk hati ada lion air  \n",
      "Expected: positive VADER: neutral\n",
      "------------------------------------------------------------\n",
      "Tweet: bagi calon penumpang maskapai penerbangan garuda citilink dan lion air perlu perhatikan aturan baru berikut  \n",
      "Expected: positive VADER: neutral\n",
      "------------------------------------------------------------\n",
      "Tweet: lion air segera terbang rute internasional kualanamu penang kualanamu  \n",
      "Expected: positive VADER: neutral\n",
      "------------------------------------------------------------\n",
      "\n",
      "Misclassified Neutral Tweets:\n",
      "Tweet: lion air buka kembali penerbangan internasional non stop kualanamu penang cek syarat perjalanan via tribuntravel \n",
      "Expected: neutral VADER: negative\n",
      "------------------------------------------------------------\n",
      "Tweet: lion air buka kembali penerbangan internasional non stop kualanamu penang cek syarat perjalanan  \n",
      "Expected: neutral VADER: negative\n",
      "------------------------------------------------------------\n",
      "Tweet: pengawasan lini cargo bandar udara mutiara sis jufri sore ini kedatangan lion air dri surabaya domestik masuk ikan hias air tawar ekor koli penerima ahmad palu kkpaccelerate bkipmtolitoli bkipm_kkp palupantoloan hamzahsila syafitrianto  \n",
      "Expected: neutral VADER: negative\n",
      "------------------------------------------------------------\n",
      "Tweet: lombok jakarta lion air jakarta solo gunung harta scania solo denpasar gunung harta mercy denpasar lombok titian mas  \n",
      "Expected: neutral VADER: positive\n",
      "------------------------------------------------------------\n",
      "Tweet:  lion malaysia sumut lion air group akan membuka kembali rute penerbangan penumpang berjadwal internasional tanpa henti non stop dari bandara internasional kualanamu sumatera utara bandara internasional pulau pinang lewat serambinews \n",
      "Expected: neutral VADER: negative\n",
      "------------------------------------------------------------\n",
      "Tweet:  lion malaysia sumut lion air group akan membuka kembali rute penerbangan penumpang berjadwal internasional tanpa henti non stop dari bandara internasional kualanamu sumatera utara bandara internasional pulau pinang lewat serambinews \n",
      "Expected: neutral VADER: negative\n",
      "------------------------------------------------------------\n",
      "Tweet:  ianrahardian gue pernah delay jam bulan lalu bgt sekarang gue akan mikir berkali kali sebelum beli tiket lion air  \n",
      "Expected: neutral VADER: negative\n",
      "------------------------------------------------------------\n",
      "Tweet:  gusicopot sebenernya aku sendiri jarang naik lion air paling pernah aja karena aku slalu usaha hindarin naik lion air tapi selama aku pernah naik lion air untungnya gak pernah kejadian aneh cnth koper ilang delay lama tapi emang pesawat nya mayan panas  \n",
      "Expected: neutral VADER: negative\n",
      "------------------------------------------------------------\n",
      "Tweet: yaallah lion air lagi buka pendidikan gratis mau daftar tapi keadaan memungkin kan bgt gue ikut tahun ini sedih bgt \n",
      "Expected: neutral VADER: positive\n",
      "------------------------------------------------------------\n",
      "Tweet: akhirnya gak aku beli dah tuh tiket peswat baru jadinya aku refund aku juga sebenernya udah beli tiket pulangnya terpaksa deh aku refund dua duanya rugi rugi dah daripada tambah betee lion air anjir emang nah lanjuut akhirnya tanggal nya aku pergi shopping  \n",
      "Expected: neutral VADER: negative\n",
      "------------------------------------------------------------\n",
      "\n",
      "Misclassified Negative Tweets:\n",
      "Tweet: mau tanya manajemen lion air bawa koper isi sepeda ngurah rai dipaksa bayar kalau ngga diberangkatin padahal pas berangkat ada masalah koq dan ini bentuknya koper serta berat sesuai jatah kenapa policynya beda lionair ngurahraibali bali  \n",
      "Expected: negative VADER: neutral\n",
      "------------------------------------------------------------\n",
      "Tweet:  nya lion air jam segini susah bener dihubungin dah \n",
      "Expected: negative VADER: neutral\n",
      "------------------------------------------------------------\n",
      "Tweet: baru tau kalo biaya kargo pesawat untuk mengangkut jenasah ternyata semahal itu tiga tahun lalu seorang teman meninggal semarang dan harus dipulangkan jayapura seingat saya biaya yang harus dikeluarkan juta untuk kargo pesawat lion air  \n",
      "Expected: negative VADER: neutral\n",
      "------------------------------------------------------------\n",
      "Tweet: lion air emang ngecewain bgtt tai \n",
      "Expected: negative VADER: neutral\n",
      "------------------------------------------------------------\n",
      "Tweet: bingung baca berita soal batik air jadi ada batik air atau gimana cmiiw batik air indonesia kode btk batik air malaysia kode mxd perubahan dari malindo air dua nya punya lion air group  \n",
      "Expected: negative VADER: neutral\n",
      "------------------------------------------------------------\n",
      "Tweet: emosi aku sama lion air dia ngasih info kek orang ngerapp aku minta pelan pelan maaf sebelumnya boleh diinfokan kembali terkait pembelian bagasi penumpang karena disini suara ibu sangat kecil dan terlalu cepat kau tau dia jawab apa suara ibu putus putus  \n",
      "Expected: negative VADER: neutral\n",
      "------------------------------------------------------------\n",
      "Tweet: landasan pacu bandara mopah merauke dipalang lion air gagal mendarat dan putar balik jayapura  \n",
      "Expected: negative VADER: neutral\n",
      "------------------------------------------------------------\n",
      "Tweet:  lionairgroup jadi apakah seat saya dijual orang lain tolong aja dong lionair responsible penumpang udah kalut luntang luntung dibandara least dikasih solusi dan dibantu saya tandain mbak rambut sebahu berbaju ungu rok hitam oog bandara bpn unpro  \n",
      "Expected: negative VADER: positive\n",
      "------------------------------------------------------------\n",
      "Tweet: krl lama lama bau nya mirip bau kabin sepawat lion air you know lah kan piye mambune khas ngono \n",
      "Expected: negative VADER: neutral\n",
      "------------------------------------------------------------\n",
      "Tweet: harga tiket pesawat mahal lion air evaluasi pasar dan strategi bisnis  \n",
      "Expected: negative VADER: neutral\n",
      "------------------------------------------------------------\n"
     ]
    }
   ],
   "source": [
    "misclassified = []\n",
    "\n",
    "for i in range(len(texts)):\n",
    "    if gold_labels[i] != vader_predictions[i]:\n",
    "        misclassified.append((texts[i], gold_labels[i], vader_predictions[i]))\n",
    "\n",
    "# display 10 misclassifications per class\n",
    "positive_errors = [m for m in misclassified if m[1] == \"positive\"][:10]\n",
    "neutral_errors  = [m for m in misclassified if m[1] == \"neutral\"][:10]\n",
    "negative_errors = [m for m in misclassified if m[1] == \"negative\"][:10]\n",
    "\n",
    "print(\"\\nMisclassified Positive Tweets:\")\n",
    "for text in positive_errors:\n",
    "    print(f\"Tweet: {text[0]} \\nExpected: {text[1]} VADER: {text[2]}\\n{'-'*60}\")\n",
    "\n",
    "print(\"\\nMisclassified Neutral Tweets:\")\n",
    "for text in neutral_errors:\n",
    "    print(f\"Tweet: {text[0]} \\nExpected: {text[1]} VADER: {text[2]}\\n{'-'*60}\")\n",
    "\n",
    "print(\"\\nMisclassified Negative Tweets:\")\n",
    "for text in negative_errors:\n",
    "    print(f\"Tweet: {text[0]} \\nExpected: {text[1]} VADER: {text[2]}\\n{'-'*60}\")"
   ]
  },
  {
   "cell_type": "markdown",
   "id": "595c86dc-3d5f-482e-9f9b-c35a4eb122a2",
   "metadata": {},
   "source": [
    "## Sentiment Analysis labelvader.csv file (English tweets)\n"
   ]
  },
  {
   "cell_type": "code",
   "execution_count": 28,
   "id": "21ad1f4a-fc1b-40c1-a152-47350fffeef8",
   "metadata": {},
   "outputs": [],
   "source": [
    "texts = []\n",
    "vader_predictions = []\n",
    "gold_labels = []\n",
    "\n",
    "for sentence in df[\"tweet_eng\"]:\n",
    "    vader_output = run_vader(sentence)\n",
    "    vader_label = vader_output_to_label(vader_output)\n",
    "    texts.append(sentence)\n",
    "    vader_predictions.append(vader_label)\n",
    "\n",
    "gold_labels = df[\"sentiments\"].str.lower().tolist()"
   ]
  },
  {
   "cell_type": "code",
   "execution_count": 29,
   "id": "fb92249c-fd99-4a6c-97b2-53e640a33162",
   "metadata": {},
   "outputs": [
    {
     "name": "stdout",
     "output_type": "stream",
     "text": [
      "VADER Sentiment Classification Report (English):\n",
      "              precision    recall  f1-score   support\n",
      "\n",
      "    negative       0.33      0.65      0.44       271\n",
      "     neutral       0.67      0.53      0.59       987\n",
      "    positive       0.59      0.55      0.57       742\n",
      "\n",
      "    accuracy                           0.55      2000\n",
      "   macro avg       0.53      0.57      0.53      2000\n",
      "weighted avg       0.59      0.55      0.56      2000\n",
      "\n"
     ]
    }
   ],
   "source": [
    "print(\"VADER Sentiment Classification Report (English):\")\n",
    "print(classification_report(gold_labels, vader_predictions))"
   ]
  },
  {
   "cell_type": "markdown",
   "id": "3e12e1a7-d078-4afc-b021-dc562a0c1372",
   "metadata": {},
   "source": [
    "We compared VADER's performance on two versions of the same dataset: one with original tweets and one with those tweets translated into English. The accuracy improved from 50% to 55%, and the F1-score for the “negative” class rose from 0.20 to 0.44. This highlights that VADER, being a rule-based system optimized for English, benefits from input that conforms to standard English syntax and vocabulary. Translation acts as a kind of preprocessing step that aligns input with VADER's expectations, improving results.\n"
   ]
  },
  {
   "cell_type": "code",
   "execution_count": 25,
   "id": "5ab561a6-763e-4f58-a641-d024a0d44ea6",
   "metadata": {},
   "outputs": [
    {
     "data": {
      "image/png": "[encoded data removed]",
      "text/plain": [
       "<Figure size 800x500 with 1 Axes>"
      ]
     },
     "metadata": {},
     "output_type": "display_data"
    }
   ],
   "source": [
    "import matplotlib.pyplot as plt\n",
    "import numpy as np\n",
    "\n",
    "# Sentiment labels\n",
    "labels = ['Negative', 'Neutral', 'Positive']\n",
    "\n",
    "# F1-scores for each sentiment\n",
    "f1_original = [0.20, 0.64, 0.21]\n",
    "f1_translated = [0.44, 0.59, 0.57]\n",
    "\n",
    "x = np.arange(len(labels))  # label locations\n",
    "width = 0.35  # width of the bars\n",
    "\n",
    "fig, ax = plt.subplots(figsize=(8, 5))\n",
    "bars1 = ax.bar(x - width/2, f1_original, width, label='Original Tweets')\n",
    "bars2 = ax.bar(x + width/2, f1_translated, width, label='Translated Tweets')\n",
    "\n",
    "# Labels and title\n",
    "ax.set_ylabel('F1 Score')\n",
    "ax.set_title('VADER Sentiment F1-score: Original vs Translated Tweets')\n",
    "ax.set_xticks(x)\n",
    "ax.set_xticklabels(labels)\n",
    "ax.legend()\n",
    "\n",
    "# Show exact values on top of bars\n",
    "for bar in bars1 + bars2:\n",
    "    height = bar.get_height()\n",
    "    ax.annotate(f'{height:.2f}',\n",
    "                xy=(bar.get_x() + bar.get_width() / 2, height),\n",
    "                xytext=(0, 3),  # offset\n",
    "                textcoords=\"offset points\",\n",
    "                ha='center', va='bottom')\n",
    "\n",
    "plt.ylim(0, 1)\n",
    "plt.tight_layout()\n",
    "plt.show()"
   ]
  },
  {
   "cell_type": "code",
   "execution_count": null,
   "id": "1e3c6f42-c2a6-41e6-b8ac-3eabcb6b29de",
   "metadata": {},
   "outputs": [],
   "source": []
  }
 ],
 "metadata": {
  "kernelspec": {
   "display_name": "Python 3 (ipykernel)",
   "language": "python",
   "name": "python3"
  },
  "language_info": {
   "codemirror_mode": {
    "name": "ipython",
    "version": 3
   },
   "file_extension": ".py",
   "mimetype": "text/x-python",
   "name": "python",
   "nbconvert_exporter": "python",
   "pygments_lexer": "ipython3",
   "version": "3.12.9"
  }
 },
 "nbformat": 4,
 "nbformat_minor": 5
}
